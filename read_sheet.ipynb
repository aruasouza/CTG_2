{
 "cells": [
  {
   "cell_type": "code",
   "execution_count": 2,
   "metadata": {},
   "outputs": [],
   "source": [
    "import pandas as pd\n",
    "import datetime\n",
    "import numpy as np\n",
    "from dateutil.relativedelta import relativedelta\n",
    "import datetime\n",
    "import json"
   ]
  },
  {
   "cell_type": "markdown",
   "metadata": {},
   "source": [
    "## CDI"
   ]
  },
  {
   "cell_type": "code",
   "execution_count": null,
   "metadata": {},
   "outputs": [],
   "source": [
    "df = pd.read_excel(\"datalake_files/DCF - RP'22 8&04 - Valores.xlsx\",sheet_name = 'Budget',header = 5)\n",
    "df = df.loc[~df['Unnamed: 1'].isnull()].drop('Unnamed: 0',axis = 1).set_index('Unnamed: 1').T\n",
    "df.columns.name = None\n",
    "df = df[list(map(lambda x: type(x) == datetime.datetime,df.index.values))]\n",
    "serie = df['Cash Accumulated Available'] * 100"
   ]
  },
  {
   "cell_type": "code",
   "execution_count": null,
   "metadata": {},
   "outputs": [],
   "source": [
    "def composed_interest(days,values):\n",
    "    results = [values[0] + 1]\n",
    "    for day,valor in zip(days[1:],values[1:]):\n",
    "        if day == 0:\n",
    "            results.append(1)\n",
    "        else:\n",
    "            results.append(results[-1] * valor + 1)\n",
    "    return np.array(results) - 1"
   ]
  },
  {
   "cell_type": "code",
   "execution_count": null,
   "metadata": {},
   "outputs": [],
   "source": [
    "arquivo = 'datalake_files/09 Debt vs Setembro 2022 - RP - Budget 2023.xlsx'\n",
    "dfs = []\n",
    "messages = []\n",
    "for i in range(1,11):\n",
    "    try:\n",
    "        df = pd.read_excel(arquivo,sheet_name = f'{i}ª Emissão CDI',header = 4)\n",
    "        df = df[df['Filtro'] == 'X'][['Data','Last  CDI','Days','Interest (Month)','Principal Balance']].dropna()\n",
    "        df['Data'] = pd.to_datetime(df['Data'],format = '%d%m%Y')\n",
    "        if df['Data'].iloc[0] < datetime.datetime.now():\n",
    "            df['Last  CDI'] = df['Last  CDI'] / 100\n",
    "            spread = pd.read_excel(arquivo,sheet_name = '1ª Emissão CDI').iloc[2,9] / 100\n",
    "            df['Spread'] = spread\n",
    "            df['Taxa Diária Estimada'] = ((df['Last  CDI'] + spread + 1) ** (1/252)) - 1\n",
    "            df['Days Dif'] = df['Days'].diff().fillna(df['Days'].iloc[0]).apply(lambda x: 0 if x < 2 else x)\n",
    "            df['Taxa Estimada Período'] = ((1 + df['Taxa Diária Estimada']) ** df['Days Dif']) - 1\n",
    "            df['Taxa Acumulada Estimada'] = composed_interest(df['Days Dif'].values,df['Taxa Estimada Período'].values)\n",
    "            df['Juros Estimados'] = df['Principal Balance'] * df['Taxa Acumulada Estimada']\n",
    "            df['Despesa Estimada'] = df['Juros Estimados'].cumsum()\n",
    "            df['Despesa Real'] = (df['Interest (Month)'] * df['Days Dif'].apply(lambda x: 0 if x == 0 else 1)).cumsum()\n",
    "            df['Erro'] = 100 * (df['Despesa Real'] - df['Despesa Estimada']) / df['Despesa Real']\n",
    "            df['Período'] = df['Data'].apply(lambda x: str(x.year) + '-' + str(x.month))\n",
    "            dfs.append(df)\n",
    "            messages.append(f'{i}ª Emissão CDI: Sucesso')\n",
    "        else:\n",
    "            messages.append(f'{i}ª Emissão CDI: Não Realizado')\n",
    "    except ValueError as e:\n",
    "        print(e)\n",
    "        messages.append(f'{i}ª Emissão CDI: ' + str(e))"
   ]
  },
  {
   "cell_type": "markdown",
   "metadata": {},
   "source": [
    "## IPCA"
   ]
  },
  {
   "cell_type": "code",
   "execution_count": null,
   "metadata": {},
   "outputs": [],
   "source": [
    "arquivo = 'datalake_files/09 Debt vs Setembro 2022 - RP - Budget 2023.xlsx'\n",
    "i = 1\n",
    "positions = (15,14)\n",
    "emissao = i + 1\n",
    "df = pd.read_excel(arquivo,sheet_name = f'{emissao}ª Emissão IPCA',header = 6)\n",
    "df = df[df['Filtro'] == 'X'][['Date','IPCA','Interest','Monetary Variation',' Principal Balance']]\n",
    "df['Date'] = pd.to_datetime(df['Date'],format = '%d%m%Y')\n",
    "raw = pd.read_excel(arquivo,sheet_name = f'{emissao}ª Emissão IPCA')\n",
    "total = raw.iloc[0,positions[i]]\n",
    "juros = raw.iloc[4,positions[i]]\n",
    "del(raw)\n",
    "df['Taxa'] = juros\n",
    "df['Capital'] = total\n",
    "juros_semestral = ((1 + (juros / 100)) ** (1/2)) - 1\n",
    "df['Days Dif'] = df['Date'].diff().apply(lambda x: x.days).fillna(30)\n",
    "df = df[df['Days Dif'] <= 1]\n",
    "df['Monetary Variation'] = df['Monetary Variation'].fillna(0)\n",
    "ipca_base = (df['Capital'].iloc[0] / df[' Principal Balance'].iloc[0]) * df['IPCA'].iloc[0]\n",
    "subtract = 0\n",
    "for i in df.index:\n",
    "    if df.loc[i,'Days Dif'] == 1:\n",
    "        subtract += df.loc[i,'Interest']\n",
    "    df.loc[i,'Capital'] -= subtract\n",
    "df = df[df['Days Dif'] != 1]\n",
    "df['Despesa Acumulada'] = (df['Interest'] + df['Monetary Variation']).cumsum()\n",
    "df['Capital Dif'] = df['Capital'].diff().fillna(0).cumsum()\n",
    "df['Principal Balance Calculado'] = (total * df['IPCA'] / ipca_base) + (df['Capital Dif'] * df['IPCA'] / ipca_base)\n",
    "df['Interest Calculado'] = df['Principal Balance Calculado'] * juros_semestral\n",
    "faltante = (total + sum(df['Capital'].diff().dropna())) * (-1)\n",
    "df['Monetary Variation Calculado'] = df['Capital'].diff().apply(lambda x: None if x == 0 else x).fillna(method = 'bfill').fillna(faltante) * (-1) * ((df['IPCA'] / ipca_base) - 1) * df['Monetary Variation'].apply(lambda x: 1 if x > 0 else 0)\n",
    "df['Despesa Acumulada Calculado'] = (df['Interest Calculado'] + df['Monetary Variation Calculado']).cumsum()\n",
    "df['Erro'] = 100 * (df['Despesa Acumulada'] - df['Despesa Acumulada Calculado']) / df['Despesa Acumulada']"
   ]
  },
  {
   "cell_type": "code",
   "execution_count": 55,
   "metadata": {},
   "outputs": [],
   "source": [
    "df = pd.read_excel(\"datalake_files/DCF - RP'22 8&04 - Valores.xlsx\",sheet_name = 'Budget',header = 5)\n",
    "df = df.loc[~df['Unnamed: 1'].isnull()].drop('Unnamed: 0',axis = 1).set_index('Unnamed: 1').T\n",
    "df.columns.name = None\n",
    "df = df[list(map(lambda x: type(x) == datetime.datetime,df.index.values))]\n",
    "serie = df['Operational Costs'] * 100"
   ]
  },
  {
   "cell_type": "markdown",
   "metadata": {},
   "source": [
    "## Câmbio"
   ]
  },
  {
   "cell_type": "code",
   "execution_count": null,
   "metadata": {},
   "outputs": [],
   "source": [
    "df = pd.read_excel('datalake_files/09 Debt vs Setembro 2022 - RP - Budget 2023.xlsx',sheet_name = 'Daily Calculation prop2019',header = 2)\n",
    "df = df[['Date','USD','Repayment']].dropna()\n",
    "df = df.set_index('Date')\n",
    "df = df[datetime.datetime.today():]\n",
    "df['Period'] = df.index.to_period('m')\n",
    "df['Reais_Acumulado'] = (df['USD'] * df['Repayment']).cumsum()"
   ]
  },
  {
   "cell_type": "markdown",
   "metadata": {},
   "source": [
    "## Trading"
   ]
  },
  {
   "cell_type": "code",
   "execution_count": 4,
   "metadata": {},
   "outputs": [],
   "source": [
    "def ultimo_reajuste(row):\n",
    "    mes_de_reajuste = row['ReajusteDataBase'].month\n",
    "    mes_atual = row['Competencia'].month\n",
    "    ano_atual = row['Competencia'].year\n",
    "    if mes_atual >= mes_de_reajuste:\n",
    "        data = pd.Period(f'{ano_atual}-{mes_de_reajuste}')\n",
    "    else:\n",
    "        data = pd.Period(f'{ano_atual - 1}-{mes_de_reajuste}')\n",
    "    return max(data,row['ReajusteDataBase'])\n",
    "\n",
    "def absolute(serie,base):\n",
    "    valor_atual = base\n",
    "    yield valor_atual\n",
    "    for valor in serie[:-1]:\n",
    "        valor = valor / 100\n",
    "        valor_atual += (valor_atual * valor)\n",
    "        yield valor_atual"
   ]
  },
  {
   "cell_type": "code",
   "execution_count": 5,
   "metadata": {},
   "outputs": [],
   "source": [
    "lca_anual = pd.read_excel('datalake_files/Projecoes_LCA.xlsx','Base_Anual',header = 11).dropna().set_index('Unnamed: 0').T['IPCA - IBGE (% a.a.)']\n",
    "lca_anual = pd.Series(lca_anual.values,index = list(map(lambda x: int(str(x)[:4]),lca_anual.index))).loc[2000:]\n",
    "lca_anual = pd.Series([valor for valor in absolute(lca_anual.values,1598.41)],index = lca_anual.index,name = 'ipca')\n",
    "df_anual = pd.DataFrame(index = pd.period_range(start = '{}-01-01'.format(lca_anual.index[0]),end = '{}-01-01'.format(lca_anual.index[-1]),freq = 'M'))\n",
    "df_anual['ano'] = df_anual.index.year\n",
    "df_anual = df_anual.join(lca_anual,on = 'ano')\n",
    "df_anual['lca_anual'] = list(df_anual['ipca'].rolling(12).mean())[12:] + ([None] * 12)\n",
    "lca_anual = df_anual['lca_anual']\n",
    "lca_mensal = pd.read_excel('datalake_files/Projecoes_LCA.xlsx','Base_Mensal',header = 8).drop([0,1,2]).set_index('Período')['IPCA']\n",
    "first_year = lca_mensal.index.year[0]\n",
    "lca_mensal = pd.Series([valor for valor in absolute(lca_mensal.values,lca_anual[f'{first_year}-01'])],index = lca_mensal.index.to_period('M'),name = 'lca_mensal')\n",
    "arquivo = 'datalake_files/2021_01_05_12_14_56_wbc.json'\n",
    "df = pd.DataFrame.from_records(json.loads(open(arquivo,'r',encoding = 'utf-8').read())['Values'])\n",
    "df = df[['ReajusteDataBase','Competencia','DataParcela1','QuantSolicitada','Valor','ValorReajustado']].dropna()\n",
    "df['ReajusteDataBase'],df['Competencia'],df['DataParcela1'] = pd.to_datetime(df['ReajusteDataBase']).apply(lambda x: pd.Period(x,'M')),pd.to_datetime(df['Competencia']).apply(lambda x: pd.Period(x,'M')),pd.to_datetime(df['DataParcela1']).apply(lambda x: pd.Period(x,'M'))\n",
    "df['UltimoReajuste'] = df.apply(ultimo_reajuste,axis = 1)\n",
    "df['Valor'] = df['Valor'].apply(float)\n",
    "df = df.join(lca_mensal,on = 'UltimoReajuste')\n",
    "df = df.join(lca_mensal,on = 'ReajusteDataBase',rsuffix = '_base')\n",
    "df = df.join(lca_anual,on = 'UltimoReajuste')\n",
    "df = df.join(lca_anual,on = 'ReajusteDataBase',rsuffix = '_base')\n",
    "df['ipca'] = df['ipca'].fillna(df['ipca_ma'])\n",
    "df['ipca_base'] = df['ipca_base'].fillna(df['ipca_ma_base'])\n",
    "del(df['ipca_ma'])\n",
    "del(df['ipca_ma_base'])\n",
    "df['ValorReajustadoCalculado'] = (df['ipca'] / df['ipca_base']) * df['Valor']\n",
    "df['Total'] = df['QuantSolicitada'] * df['ValorReajustado']"
   ]
  },
  {
   "cell_type": "code",
   "execution_count": 7,
   "metadata": {},
   "outputs": [],
   "source": [
    "data_inicio,data_fim = pd.Period('2023-01'),pd.Period('2027-12')\n",
    "df = df[(df['Competencia'] >= data_inicio) & (df['Competencia'] <= data_fim)]"
   ]
  }
 ],
 "metadata": {
  "kernelspec": {
   "display_name": "Python 3 (ipykernel)",
   "language": "python",
   "name": "python3"
  },
  "language_info": {
   "codemirror_mode": {
    "name": "ipython",
    "version": 3
   },
   "file_extension": ".py",
   "mimetype": "text/x-python",
   "name": "python",
   "nbconvert_exporter": "python",
   "pygments_lexer": "ipython3",
   "version": "3.9.13"
  },
  "vscode": {
   "interpreter": {
    "hash": "8c67af0a98eea83db923f3f80edbd70c85108ce212fd5562c889c609962736ff"
   }
  }
 },
 "nbformat": 4,
 "nbformat_minor": 4
}
