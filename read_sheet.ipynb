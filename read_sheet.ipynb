{
 "cells": [
  {
   "cell_type": "code",
   "execution_count": 1,
   "metadata": {},
   "outputs": [],
   "source": [
    "import pandas as pd\n",
    "import datetime"
   ]
  },
  {
   "attachments": {},
   "cell_type": "markdown",
   "metadata": {},
   "source": [
    "## CDI"
   ]
  },
  {
   "cell_type": "code",
   "execution_count": 29,
   "metadata": {},
   "outputs": [],
   "source": [
    "df = pd.read_excel(\"datalake_files/DCF - RP'22 8&04 - Valores.xlsx\",sheet_name = 'Budget',header = 5)\n",
    "df = df.loc[~df['Unnamed: 1'].isnull()].drop('Unnamed: 0',axis = 1).set_index('Unnamed: 1').T\n",
    "df.columns.name = None\n",
    "df = df[list(map(lambda x: type(x) == datetime.datetime,df.index.values))]\n",
    "serie = df['Cash Accumulated Available'] * 100"
   ]
  },
  {
   "attachments": {},
   "cell_type": "markdown",
   "metadata": {},
   "source": [
    "## Câmbio"
   ]
  },
  {
   "cell_type": "code",
   "execution_count": 30,
   "metadata": {},
   "outputs": [
    {
     "name": "stdout",
     "output_type": "stream",
     "text": [
      "1ª Emissão CDI \n",
      "1ª Emissão IPCA\n",
      "2ª Emissão CDI\n",
      "2ª Emissão IPCA\n",
      "#REF\n",
      "3ª Emissão CDI\n",
      "#REF\n",
      "#REF\n",
      "#REF\n",
      "#REF\n",
      "#REF\n",
      "#REF\n",
      "#REF\n",
      "#REF\n",
      "#REF\n",
      "MUFG 2nd Contract\n",
      "#REF\n",
      "#REF\n",
      "#REF\n",
      "#REF\n",
      "#REF\n"
     ]
    },
    {
     "data": {
      "text/html": [
       "<div>\n",
       "<style scoped>\n",
       "    .dataframe tbody tr th:only-of-type {\n",
       "        vertical-align: middle;\n",
       "    }\n",
       "\n",
       "    .dataframe tbody tr th {\n",
       "        vertical-align: top;\n",
       "    }\n",
       "\n",
       "    .dataframe thead th {\n",
       "        text-align: right;\n",
       "    }\n",
       "</style>\n",
       "<table border=\"1\" class=\"dataframe\">\n",
       "  <thead>\n",
       "    <tr style=\"text-align: right;\">\n",
       "      <th></th>\n",
       "      <th>USD</th>\n",
       "      <th>Repayment</th>\n",
       "      <th>Period</th>\n",
       "      <th>Reais_Acumulado</th>\n",
       "    </tr>\n",
       "    <tr>\n",
       "      <th>Date</th>\n",
       "      <th></th>\n",
       "      <th></th>\n",
       "      <th></th>\n",
       "      <th></th>\n",
       "    </tr>\n",
       "  </thead>\n",
       "  <tbody>\n",
       "    <tr>\n",
       "      <th>2023-05-20</th>\n",
       "      <td>5.073958</td>\n",
       "      <td>7.708333e+07</td>\n",
       "      <td>2023-05</td>\n",
       "      <td>3.911176e+08</td>\n",
       "    </tr>\n",
       "    <tr>\n",
       "      <th>2023-11-20</th>\n",
       "      <td>4.947550</td>\n",
       "      <td>7.708333e+07</td>\n",
       "      <td>2023-11</td>\n",
       "      <td>7.724912e+08</td>\n",
       "    </tr>\n",
       "    <tr>\n",
       "      <th>2024-05-20</th>\n",
       "      <td>4.907509</td>\n",
       "      <td>7.708333e+07</td>\n",
       "      <td>2024-05</td>\n",
       "      <td>1.150778e+09</td>\n",
       "    </tr>\n",
       "    <tr>\n",
       "      <th>2024-11-20</th>\n",
       "      <td>4.916520</td>\n",
       "      <td>7.708333e+07</td>\n",
       "      <td>2024-11</td>\n",
       "      <td>1.529760e+09</td>\n",
       "    </tr>\n",
       "    <tr>\n",
       "      <th>2025-05-20</th>\n",
       "      <td>4.911695</td>\n",
       "      <td>7.708333e+07</td>\n",
       "      <td>2025-05</td>\n",
       "      <td>1.908370e+09</td>\n",
       "    </tr>\n",
       "    <tr>\n",
       "      <th>2025-11-20</th>\n",
       "      <td>4.904104</td>\n",
       "      <td>7.708333e+07</td>\n",
       "      <td>2025-11</td>\n",
       "      <td>2.286395e+09</td>\n",
       "    </tr>\n",
       "    <tr>\n",
       "      <th>2026-05-20</th>\n",
       "      <td>4.723724</td>\n",
       "      <td>0.000000e+00</td>\n",
       "      <td>2026-05</td>\n",
       "      <td>2.286395e+09</td>\n",
       "    </tr>\n",
       "  </tbody>\n",
       "</table>\n",
       "</div>"
      ],
      "text/plain": [
       "                 USD     Repayment   Period  Reais_Acumulado\n",
       "Date                                                        \n",
       "2023-05-20  5.073958  7.708333e+07  2023-05     3.911176e+08\n",
       "2023-11-20  4.947550  7.708333e+07  2023-11     7.724912e+08\n",
       "2024-05-20  4.907509  7.708333e+07  2024-05     1.150778e+09\n",
       "2024-11-20  4.916520  7.708333e+07  2024-11     1.529760e+09\n",
       "2025-05-20  4.911695  7.708333e+07  2025-05     1.908370e+09\n",
       "2025-11-20  4.904104  7.708333e+07  2025-11     2.286395e+09\n",
       "2026-05-20  4.723724  0.000000e+00  2026-05     2.286395e+09"
      ]
     },
     "execution_count": 30,
     "metadata": {},
     "output_type": "execute_result"
    }
   ],
   "source": [
    "df = pd.read_excel('datalake_files/09 Debt vs Setembro 2022 - RP - Budget 2023.xlsx',sheet_name = 'Daily Calculation prop2019',header = 2)\n",
    "df = df[['Date','USD','Repayment']].dropna()\n",
    "df = df.set_index('Date')\n",
    "df = df[datetime.datetime.today():]\n",
    "df['Period'] = df.index.to_period('m')\n",
    "df['Reais_Acumulado'] = (df['USD'] * df['Repayment']).cumsum()\n",
    "df"
   ]
  }
 ],
 "metadata": {
  "kernelspec": {
   "display_name": "venv",
   "language": "python",
   "name": "python3"
  },
  "language_info": {
   "codemirror_mode": {
    "name": "ipython",
    "version": 3
   },
   "file_extension": ".py",
   "mimetype": "text/x-python",
   "name": "python",
   "nbconvert_exporter": "python",
   "pygments_lexer": "ipython3",
   "version": "3.9.13"
  },
  "orig_nbformat": 4,
  "vscode": {
   "interpreter": {
    "hash": "8c67af0a98eea83db923f3f80edbd70c85108ce212fd5562c889c609962736ff"
   }
  }
 },
 "nbformat": 4,
 "nbformat_minor": 2
}
