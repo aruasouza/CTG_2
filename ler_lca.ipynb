{
 "cells": [
  {
   "cell_type": "code",
   "execution_count": 1,
   "metadata": {},
   "outputs": [],
   "source": [
    "import pandas as pd"
   ]
  },
  {
   "cell_type": "code",
   "execution_count": 54,
   "metadata": {},
   "outputs": [
    {
     "data": {
      "text/html": [
       "<div>\n",
       "<style scoped>\n",
       "    .dataframe tbody tr th:only-of-type {\n",
       "        vertical-align: middle;\n",
       "    }\n",
       "\n",
       "    .dataframe tbody tr th {\n",
       "        vertical-align: top;\n",
       "    }\n",
       "\n",
       "    .dataframe thead th {\n",
       "        text-align: right;\n",
       "    }\n",
       "</style>\n",
       "<table border=\"1\" class=\"dataframe\">\n",
       "  <thead>\n",
       "    <tr style=\"text-align: right;\">\n",
       "      <th></th>\n",
       "      <th>ipca</th>\n",
       "      <th>cambio</th>\n",
       "      <th>selic</th>\n",
       "    </tr>\n",
       "    <tr>\n",
       "      <th>Ano</th>\n",
       "      <th></th>\n",
       "      <th></th>\n",
       "      <th></th>\n",
       "    </tr>\n",
       "  </thead>\n",
       "  <tbody>\n",
       "    <tr>\n",
       "      <th>2000</th>\n",
       "      <td>5.974593</td>\n",
       "      <td>1.829499</td>\n",
       "      <td>17.437500</td>\n",
       "    </tr>\n",
       "    <tr>\n",
       "      <th>2001</th>\n",
       "      <td>7.673436</td>\n",
       "      <td>2.352216</td>\n",
       "      <td>17.625000</td>\n",
       "    </tr>\n",
       "    <tr>\n",
       "      <th>2002</th>\n",
       "      <td>12.530273</td>\n",
       "      <td>2.930936</td>\n",
       "      <td>19.479167</td>\n",
       "    </tr>\n",
       "    <tr>\n",
       "      <th>2003</th>\n",
       "      <td>9.300513</td>\n",
       "      <td>3.071536</td>\n",
       "      <td>23.083333</td>\n",
       "    </tr>\n",
       "    <tr>\n",
       "      <th>2004</th>\n",
       "      <td>7.599496</td>\n",
       "      <td>2.925727</td>\n",
       "      <td>16.437500</td>\n",
       "    </tr>\n",
       "  </tbody>\n",
       "</table>\n",
       "</div>"
      ],
      "text/plain": [
       "           ipca    cambio      selic\n",
       "Ano                                 \n",
       "2000   5.974593  1.829499  17.437500\n",
       "2001   7.673436  2.352216  17.625000\n",
       "2002  12.530273  2.930936  19.479167\n",
       "2003   9.300513  3.071536  23.083333\n",
       "2004   7.599496  2.925727  16.437500"
      ]
     },
     "execution_count": 54,
     "metadata": {},
     "output_type": "execute_result"
    }
   ],
   "source": [
    "df = pd.read_excel('Projecoes_LCA.xlsx',sheet_name = 'Base_Anual',header = 11).set_index('Unnamed: 0').dropna().T\n",
    "target_cols = {'IPCA - IBGE (% a.a.)':'ipca','R$/US$, média anual':'cambio','Selic, média anual (% a.a.)':'selic'}\n",
    "df = df[target_cols.keys()].rename(target_cols,axis = 1).iloc[2:]\n",
    "df.columns.name = None\n",
    "df.index.names = ['Ano']\n",
    "df = df.set_index(pd.Series(df.index).apply(lambda x: int(x[:5]) if type(x) == str else int(x)))\n",
    "for column in df.columns:\n",
    "    df[column] = df[column].apply(lambda x: float(x))\n",
    "df.head()"
   ]
  },
  {
   "cell_type": "code",
   "execution_count": 56,
   "metadata": {},
   "outputs": [
    {
     "data": {
      "text/plain": [
       "<AxesSubplot:xlabel='Ano'>"
      ]
     },
     "execution_count": 56,
     "metadata": {},
     "output_type": "execute_result"
    },
    {
     "data": {
      "image/png": "[encoded data removed]",
      "text/plain": [
       "<Figure size 432x288 with 1 Axes>"
      ]
     },
     "metadata": {
      "needs_background": "light"
     },
     "output_type": "display_data"
    }
   ],
   "source": [
    "df['selic'].plot()"
   ]
  }
 ],
 "metadata": {
  "kernelspec": {
   "display_name": "versaoAnterior",
   "language": "python",
   "name": "python3"
  },
  "language_info": {
   "codemirror_mode": {
    "name": "ipython",
    "version": 3
   },
   "file_extension": ".py",
   "mimetype": "text/x-python",
   "name": "python",
   "nbconvert_exporter": "python",
   "pygments_lexer": "ipython3",
   "version": "3.7.11 (default, Jul 27 2021, 09:42:29) [MSC v.1916 64 bit (AMD64)]"
  },
  "orig_nbformat": 4,
  "vscode": {
   "interpreter": {
    "hash": "20e561beb06957fb7464a5fc259dbf11e9f633220521c1cc8cae595727d34a98"
   }
  }
 },
 "nbformat": 4,
 "nbformat_minor": 2
}
