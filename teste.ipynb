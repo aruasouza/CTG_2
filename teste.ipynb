{
 "cells": [
  {
   "cell_type": "code",
   "execution_count": 1,
   "metadata": {},
   "outputs": [],
   "source": [
    "key = '2e1bfde60fad8a211f94338c7a0ae107'"
   ]
  }
 ],
 "metadata": {
  "kernelspec": {
   "display_name": "versaoAnterior",
   "language": "python",
   "name": "python3"
  },
  "language_info": {
   "codemirror_mode": {
    "name": "ipython",
    "version": 3
   },
   "file_extension": ".py",
   "mimetype": "text/x-python",
   "name": "python",
   "nbconvert_exporter": "python",
   "pygments_lexer": "ipython3",
   "version": "3.7.11 (default, Jul 27 2021, 09:42:29) [MSC v.1916 64 bit (AMD64)]"
  },
  "orig_nbformat": 4,
  "vscode": {
   "interpreter": {
    "hash": "20e561beb06957fb7464a5fc259dbf11e9f633220521c1cc8cae595727d34a98"
   }
  }
 },
 "nbformat": 4,
 "nbformat_minor": 2
}
